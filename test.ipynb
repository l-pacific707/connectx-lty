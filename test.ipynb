{
 "cells": [
  {
   "cell_type": "code",
   "execution_count": 5,
   "metadata": {},
   "outputs": [
    {
     "data": {
      "text/plain": [
       "['_Environment__agent_runner',\n",
       " '_Environment__get_shared_state',\n",
       " '_Environment__get_state',\n",
       " '_Environment__process_specification',\n",
       " '_Environment__run_interpreter',\n",
       " '_Environment__set_state',\n",
       " '_Environment__state_schema',\n",
       " '_Environment__state_schema_value',\n",
       " '__class__',\n",
       " '__delattr__',\n",
       " '__dict__',\n",
       " '__dir__',\n",
       " '__doc__',\n",
       " '__eq__',\n",
       " '__firstlineno__',\n",
       " '__format__',\n",
       " '__ge__',\n",
       " '__getattribute__',\n",
       " '__getstate__',\n",
       " '__gt__',\n",
       " '__hash__',\n",
       " '__init__',\n",
       " '__init_subclass__',\n",
       " '__le__',\n",
       " '__lt__',\n",
       " '__module__',\n",
       " '__ne__',\n",
       " '__new__',\n",
       " '__reduce__',\n",
       " '__reduce_ex__',\n",
       " '__repr__',\n",
       " '__setattr__',\n",
       " '__sizeof__',\n",
       " '__state_schema_0',\n",
       " '__state_schema_1',\n",
       " '__static_attributes__',\n",
       " '__str__',\n",
       " '__subclasshook__',\n",
       " '__weakref__',\n",
       " 'agents',\n",
       " 'clone',\n",
       " 'configuration',\n",
       " 'debug',\n",
       " 'debug_print',\n",
       " 'done',\n",
       " 'html_renderer',\n",
       " 'id',\n",
       " 'info',\n",
       " 'interpreter',\n",
       " 'logs',\n",
       " 'name',\n",
       " 'play',\n",
       " 'pool',\n",
       " 'render',\n",
       " 'renderer',\n",
       " 'reset',\n",
       " 'run',\n",
       " 'specification',\n",
       " 'state',\n",
       " 'step',\n",
       " 'steps',\n",
       " 'toJSON',\n",
       " 'train',\n",
       " 'version']"
      ]
     },
     "execution_count": 5,
     "metadata": {},
     "output_type": "execute_result"
    }
   ],
   "source": [
    "from kaggle_environments import make, evaluate, utils\n",
    "\n",
    "env = make(\"connectx\")\n",
    "\n",
    "dir(env)"
   ]
  },
  {
   "cell_type": "code",
   "execution_count": 14,
   "metadata": {},
   "outputs": [
    {
     "data": {
      "text/plain": [
       "{'name': 'connectx',\n",
       " 'title': 'ConnectX',\n",
       " 'description': 'Classic Connect in a row but configurable.',\n",
       " 'version': '1.0.1',\n",
       " 'agents': [2],\n",
       " 'configuration': {'episodeSteps': {'description': 'Maximum number of steps in the episode.',\n",
       "   'type': 'integer',\n",
       "   'minimum': 1,\n",
       "   'default': 1000},\n",
       "  'actTimeout': {'description': 'Maximum runtime (seconds) to obtain an action from an agent.',\n",
       "   'type': 'number',\n",
       "   'minimum': 0,\n",
       "   'default': 2},\n",
       "  'runTimeout': {'description': 'Maximum runtime (seconds) of an episode (not necessarily DONE).',\n",
       "   'type': 'number',\n",
       "   'minimum': 0,\n",
       "   'default': 1200},\n",
       "  'columns': {'description': 'The number of columns on the board',\n",
       "   'type': 'integer',\n",
       "   'default': 7,\n",
       "   'minimum': 1},\n",
       "  'rows': {'description': 'The number of rows on the board',\n",
       "   'type': 'integer',\n",
       "   'default': 6,\n",
       "   'minimum': 1},\n",
       "  'inarow': {'description': 'The number of checkers in a row required to win.',\n",
       "   'type': 'integer',\n",
       "   'default': 4,\n",
       "   'minimum': 1},\n",
       "  'agentTimeout': {'description': 'Obsolete field kept for backwards compatibility, please use observation.remainingOverageTime.',\n",
       "   'type': 'number',\n",
       "   'minimum': 0,\n",
       "   'default': 60},\n",
       "  'timeout': {'description': 'Obsolete copy of actTimeout maintained for backwards compatibility. May be removed in the future.',\n",
       "   'type': 'integer',\n",
       "   'default': 2,\n",
       "   'minimum': 0}},\n",
       " 'reward': {'description': '-1 = Lost, 0 = Draw/Ongoing, 1 = Won',\n",
       "  'enum': [-1, 0, 1],\n",
       "  'default': 0,\n",
       "  'type': ['number', 'null']},\n",
       " 'observation': {'remainingOverageTime': {'description': 'Total remaining banked time (seconds) that can be used in excess of per-step actTimeouts -- agent is disqualified with TIMEOUT status when this drops below 0.',\n",
       "   'shared': False,\n",
       "   'type': 'number',\n",
       "   'minimum': 0,\n",
       "   'default': 60},\n",
       "  'step': {'description': 'Current step within the episode.',\n",
       "   'type': 'integer',\n",
       "   'shared': True,\n",
       "   'minimum': 0,\n",
       "   'default': 0},\n",
       "  'board': {'description': 'Serialized grid (rows x columns). 0 = Empty, 1 = P1, 2 = P2',\n",
       "   'type': 'array',\n",
       "   'shared': True,\n",
       "   'default': []},\n",
       "  'mark': {'defaults': [1, 2],\n",
       "   'description': 'Which checkers are the agents.',\n",
       "   'enum': [1, 2]}},\n",
       " 'action': {'description': 'Column to drop a checker onto the board.',\n",
       "  'type': 'integer',\n",
       "  'minimum': 0,\n",
       "  'default': 0},\n",
       " 'status': {'defaults': ['ACTIVE', 'INACTIVE']},\n",
       " 'info': {}}"
      ]
     },
     "execution_count": 14,
     "metadata": {},
     "output_type": "execute_result"
    }
   ],
   "source": [
    "env.specification"
   ]
  },
  {
   "cell_type": "code",
   "execution_count": 15,
   "metadata": {},
   "outputs": [
    {
     "data": {
      "text/plain": [
       "{'description': 'The number of columns on the board',\n",
       " 'type': 'integer',\n",
       " 'default': 7,\n",
       " 'minimum': 1}"
      ]
     },
     "execution_count": 15,
     "metadata": {},
     "output_type": "execute_result"
    }
   ],
   "source": [
    "env.specification.configuration.columns"
   ]
  },
  {
   "cell_type": "code",
   "execution_count": 7,
   "metadata": {},
   "outputs": [
    {
     "data": {
      "text/plain": [
       "[{'action': 0,\n",
       "  'reward': 0,\n",
       "  'info': {},\n",
       "  'observation': {'remainingOverageTime': 60,\n",
       "   'step': 0,\n",
       "   'board': [0,\n",
       "    0,\n",
       "    0,\n",
       "    0,\n",
       "    0,\n",
       "    0,\n",
       "    0,\n",
       "    0,\n",
       "    0,\n",
       "    0,\n",
       "    0,\n",
       "    0,\n",
       "    0,\n",
       "    0,\n",
       "    0,\n",
       "    0,\n",
       "    0,\n",
       "    0,\n",
       "    0,\n",
       "    0,\n",
       "    0,\n",
       "    0,\n",
       "    0,\n",
       "    0,\n",
       "    0,\n",
       "    0,\n",
       "    0,\n",
       "    0,\n",
       "    0,\n",
       "    0,\n",
       "    0,\n",
       "    0,\n",
       "    0,\n",
       "    0,\n",
       "    0,\n",
       "    0,\n",
       "    0,\n",
       "    0,\n",
       "    0,\n",
       "    0,\n",
       "    0,\n",
       "    0],\n",
       "   'mark': 1},\n",
       "  'status': 'ACTIVE'},\n",
       " {'action': 0,\n",
       "  'reward': 0,\n",
       "  'info': {},\n",
       "  'observation': {'remainingOverageTime': 60, 'mark': 2},\n",
       "  'status': 'INACTIVE'}]"
      ]
     },
     "execution_count": 7,
     "metadata": {},
     "output_type": "execute_result"
    }
   ],
   "source": [
    "env.state"
   ]
  },
  {
   "cell_type": "code",
   "execution_count": 8,
   "metadata": {},
   "outputs": [
    {
     "data": {
      "text/plain": [
       "[{'action': 0,\n",
       "  'reward': 0,\n",
       "  'info': {},\n",
       "  'observation': {'remainingOverageTime': 60,\n",
       "   'step': 1,\n",
       "   'board': [0,\n",
       "    0,\n",
       "    0,\n",
       "    0,\n",
       "    0,\n",
       "    0,\n",
       "    0,\n",
       "    0,\n",
       "    0,\n",
       "    0,\n",
       "    0,\n",
       "    0,\n",
       "    0,\n",
       "    0,\n",
       "    0,\n",
       "    0,\n",
       "    0,\n",
       "    0,\n",
       "    0,\n",
       "    0,\n",
       "    0,\n",
       "    0,\n",
       "    0,\n",
       "    0,\n",
       "    0,\n",
       "    0,\n",
       "    0,\n",
       "    0,\n",
       "    0,\n",
       "    0,\n",
       "    0,\n",
       "    0,\n",
       "    0,\n",
       "    0,\n",
       "    0,\n",
       "    1,\n",
       "    0,\n",
       "    0,\n",
       "    0,\n",
       "    0,\n",
       "    0,\n",
       "    0],\n",
       "   'mark': 1},\n",
       "  'status': 'INACTIVE'},\n",
       " {'action': 1,\n",
       "  'reward': 0,\n",
       "  'info': {},\n",
       "  'observation': {'remainingOverageTime': 60, 'mark': 2},\n",
       "  'status': 'ACTIVE'}]"
      ]
     },
     "execution_count": 8,
     "metadata": {},
     "output_type": "execute_result"
    }
   ],
   "source": [
    "env.step([0,1])"
   ]
  },
  {
   "cell_type": "code",
   "execution_count": null,
   "metadata": {},
   "outputs": [
    {
     "name": "stdout",
     "output_type": "stream",
     "text": [
      "1\n"
     ]
    }
   ],
   "source": [
    "import numpy as np\n",
    "\n",
    "\n",
    "np.array(env.state[0][\"observation\"][\"board\"]).reshape((6,7))\n",
    "\n"
   ]
  },
  {
   "cell_type": "code",
   "execution_count": 13,
   "metadata": {},
   "outputs": [
    {
     "name": "stdout",
     "output_type": "stream",
     "text": [
      "1\n",
      "<class 'int'>\n"
     ]
    }
   ],
   "source": [
    "print(env.state[0][\"observation\"][\"mark\"])\n",
    "print(type(env.state[0][\"observation\"][\"mark\"]))"
   ]
  },
  {
   "cell_type": "code",
   "execution_count": 21,
   "metadata": {},
   "outputs": [
    {
     "name": "stdout",
     "output_type": "stream",
     "text": [
      "7\n",
      "<class 'kaggle_environments.utils.Struct'>\n"
     ]
    }
   ],
   "source": [
    "print(env.configuration.columns)\n",
    "print(type(env.configuration))"
   ]
  },
  {
   "cell_type": "code",
   "execution_count": 22,
   "metadata": {},
   "outputs": [
    {
     "name": "stdout",
     "output_type": "stream",
     "text": [
      "[{'action': 3, 'reward': 1, 'info': {}, 'observation': {'remainingOverageTime': 60, 'step': 13, 'board': [0, 0, 0, 0, 0, 0, 0, 0, 0, 0, 0, 0, 0, 0, 0, 0, 2, 0, 0, 0, 0, 2, 0, 1, 0, 0, 2, 0, 2, 1, 2, 0, 0, 1, 0, 1, 1, 1, 1, 0, 2, 0], 'mark': 1}, 'status': 'DONE'}, {'action': 3, 'reward': -1, 'info': {}, 'observation': {'remainingOverageTime': 60, 'mark': 2}, 'status': 'DONE'}]\n"
     ]
    }
   ],
   "source": [
    "done = env.done\n",
    "while not done:\n",
    "    env.step([np.random.randint(0,7), np.random.randint(0,7)])\n",
    "    done = env.done\n",
    "print(env.state)"
   ]
  },
  {
   "cell_type": "code",
   "execution_count": 24,
   "metadata": {},
   "outputs": [
    {
     "name": "stdout",
     "output_type": "stream",
     "text": [
      "[[0 0 0 0 0 0 0]\n",
      " [0 0 0 0 0 0 0]\n",
      " [0 0 2 0 0 0 0]\n",
      " [2 0 1 0 0 2 0]\n",
      " [2 1 2 0 0 1 0]\n",
      " [1 1 1 1 0 2 0]]\n"
     ]
    }
   ],
   "source": [
    "print(np.array(env.state[0][\"observation\"][\"board\"]).reshape((6,7)))"
   ]
  },
  {
   "cell_type": "code",
   "execution_count": 25,
   "metadata": {},
   "outputs": [
    {
     "name": "stdout",
     "output_type": "stream",
     "text": [
      "[{'action': 3, 'reward': 1, 'info': {}, 'observation': {'remainingOverageTime': 60, 'step': 13, 'board': [0, 0, 0, 0, 0, 0, 0, 0, 0, 0, 0, 0, 0, 0, 0, 0, 2, 0, 0, 0, 0, 2, 0, 1, 0, 0, 2, 0, 2, 1, 2, 0, 0, 1, 0, 1, 1, 1, 1, 0, 2, 0], 'mark': 1}, 'status': 'DONE'}, {'action': 3, 'reward': -1, 'info': {}, 'observation': {'remainingOverageTime': 60, 'mark': 2}, 'status': 'DONE'}]\n"
     ]
    }
   ],
   "source": [
    "print(env.state)"
   ]
  },
  {
   "cell_type": "code",
   "execution_count": 26,
   "metadata": {},
   "outputs": [
    {
     "name": "stdout",
     "output_type": "stream",
     "text": [
      "{'action': 0, 'reward': 0, 'info': {}, 'observation': {'remainingOverageTime': 60, 'step': 0, 'board': [0, 0, 0, 0, 0, 0, 0, 0, 0, 0, 0, 0, 0, 0, 0, 0, 0, 0, 0, 0, 0, 0, 0, 0, 0, 0, 0, 0, 0, 0, 0, 0, 0, 0, 0, 0, 0, 0, 0, 0, 0, 0], 'mark': 1}, 'status': 'ACTIVE'}\n",
      "{'action': 0, 'reward': 0, 'info': {}, 'observation': {'remainingOverageTime': 60, 'step': 1, 'board': [0, 0, 0, 0, 0, 0, 0, 0, 0, 0, 0, 0, 0, 0, 0, 0, 0, 0, 0, 0, 0, 0, 0, 0, 0, 0, 0, 0, 0, 0, 0, 0, 0, 0, 0, 1, 0, 0, 0, 0, 0, 0], 'mark': 1}, 'status': 'INACTIVE'}\n",
      "{'action': 1, 'reward': 0, 'info': {}, 'observation': {'remainingOverageTime': 60, 'step': 2, 'board': [0, 0, 0, 0, 0, 0, 0, 0, 0, 0, 0, 0, 0, 0, 0, 0, 0, 0, 0, 0, 0, 0, 0, 0, 0, 0, 0, 0, 0, 0, 0, 0, 0, 0, 0, 1, 0, 0, 0, 0, 0, 2], 'mark': 1}, 'status': 'ACTIVE'}\n"
     ]
    }
   ],
   "source": [
    "env.reset()\n",
    "print(env.state[0])\n",
    "env.step([0,7])\n",
    "print(env.state[0])\n",
    "env.step([1,6])\n",
    "print(env.state[0])"
   ]
  },
  {
   "cell_type": "code",
   "execution_count": 28,
   "metadata": {},
   "outputs": [
    {
     "name": "stdout",
     "output_type": "stream",
     "text": [
      "6\n"
     ]
    }
   ],
   "source": [
    "print(env.configuration.rows)"
   ]
  }
 ],
 "metadata": {
  "kernelspec": {
   "display_name": ".venv",
   "language": "python",
   "name": "python3"
  },
  "language_info": {
   "codemirror_mode": {
    "name": "ipython",
    "version": 3
   },
   "file_extension": ".py",
   "mimetype": "text/x-python",
   "name": "python",
   "nbconvert_exporter": "python",
   "pygments_lexer": "ipython3",
   "version": "3.13.2"
  }
 },
 "nbformat": 4,
 "nbformat_minor": 2
}
